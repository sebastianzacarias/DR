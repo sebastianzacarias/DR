{
 "cells": [
  {
   "cell_type": "code",
   "execution_count": 10,
   "id": "00381762",
   "metadata": {},
   "outputs": [
    {
     "name": "stdout",
     "output_type": "stream",
     "text": [
      "Loaded model from disk\n",
      "WARNING:tensorflow:9 out of the last 9 calls to <function Model.make_predict_function.<locals>.predict_function at 0x000002063205F1F0> triggered tf.function retracing. Tracing is expensive and the excessive number of tracings could be due to (1) creating @tf.function repeatedly in a loop, (2) passing tensors with different shapes, (3) passing Python objects instead of tensors. For (1), please define your @tf.function outside of the loop. For (2), @tf.function has experimental_relax_shapes=True option that relaxes argument shapes that can avoid unnecessary retracing. For (3), please refer to https://www.tensorflow.org/tutorials/customization/performance#python_or_tensor_args and https://www.tensorflow.org/api_docs/python/tf/function for  more details.\n",
      "Predicted Number:  7\n"
     ]
    },
    {
     "data": {
      "image/png": "[encoded data removed]",
      "text/plain": [
       "<Figure size 432x288 with 1 Axes>"
      ]
     },
     "metadata": {
      "needs_background": "light"
     },
     "output_type": "display_data"
    }
   ],
   "source": [
    "import cv2\n",
    "import numpy as np\n",
    "from tensorflow.python.keras.models import load_model\n",
    "import matplotlib.pyplot as plt\n",
    "from keras.models import model_from_json\n",
    "\n",
    "\n",
    "\n",
    "def predict(img):\n",
    "    image = img.copy()\n",
    "    image = cv2.cvtColor(image, cv2.COLOR_BGR2GRAY)\n",
    "    # image = cv2.threshold(image, 140, 255, cv2.THRESH_BINARY)[1]\n",
    "    image = cv2.resize(image, (28, 28))\n",
    "    # display_image(image)\n",
    "    image = image.astype('float32')\n",
    "    image = image.reshape(1, 28, 28, 1)\n",
    "    image /= 255\n",
    "\n",
    "    plt.imshow(image.reshape(28, 28), cmap='Greys')\n",
    "    \n",
    "    # load json and create model\n",
    "    json_file = open(r\"C:\\Users\\sebas\\Documents\\Artificial_Intelligence\\DSZEngineering\\Publicaciones\\YT\\Video HWR\\Code\\model.json\", 'r')\n",
    "    loaded_model_json = json_file.read()\n",
    "    json_file.close()\n",
    "    model = model_from_json(loaded_model_json)\n",
    "    # load weights into new model\n",
    "    model.load_weights(r\"C:\\Users\\sebas\\Documents\\Artificial_Intelligence\\DSZEngineering\\Publicaciones\\YT\\Video HWR\\Code\\model.h5\")\n",
    "    print(\"Loaded model from disk\")\n",
    "    \n",
    "    \n",
    "    \n",
    "    pred = model.predict(image.reshape(1, 28, 28, 1), batch_size=1)\n",
    "\n",
    "    print(\"Predicted Number: \", pred.argmax())\n",
    "\n",
    "    # return pred.argmax()\n",
    "\n",
    "predict(cv2.imread(r\"C:\\Users\\sebas\\Documents\\Artificial_Intelligence\\DSZEngineering\\Publicaciones\\YT\\Video HWR\\Code\\Images\\number_seven.png\"))"
   ]
  },
  {
   "cell_type": "code",
   "execution_count": null,
   "id": "78d1bcb6",
   "metadata": {},
   "outputs": [],
   "source": []
  },
  {
   "cell_type": "code",
   "execution_count": null,
   "id": "e860cd44",
   "metadata": {},
   "outputs": [],
   "source": []
  }
 ],
 "metadata": {
  "kernelspec": {
   "display_name": "Python 3",
   "language": "python",
   "name": "python3"
  },
  "language_info": {
   "codemirror_mode": {
    "name": "ipython",
    "version": 3
   },
   "file_extension": ".py",
   "mimetype": "text/x-python",
   "name": "python",
   "nbconvert_exporter": "python",
   "pygments_lexer": "ipython3",
   "version": "3.8.8"
  }
 },
 "nbformat": 4,
 "nbformat_minor": 5
}
